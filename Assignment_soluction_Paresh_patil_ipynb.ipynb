{
  "nbformat": 4,
  "nbformat_minor": 0,
  "metadata": {
    "colab": {
      "provenance": [],
      "collapsed_sections": []
    },
    "kernelspec": {
      "name": "python3",
      "display_name": "Python 3"
    },
    "language_info": {
      "name": "python"
    }
  },
  "cells": [
    {
      "cell_type": "code",
      "execution_count": 1,
      "metadata": {
        "colab": {
          "base_uri": "https://localhost:8080/"
        },
        "id": "vH8S3LDfsN8X",
        "outputId": "a383464f-820b-44cf-902e-7550ccbf0d04"
      },
      "outputs": [
        {
          "output_type": "stream",
          "name": "stdout",
          "text": [
            "\r0% [Working]\r            \rHit:1 http://archive.ubuntu.com/ubuntu bionic InRelease\n",
            "\r0% [Connecting to security.ubuntu.com (185.125.190.36)] [Connected to cloud.r-p\r                                                                               \rHit:2 https://cloud.r-project.org/bin/linux/ubuntu bionic-cran40/ InRelease\n",
            "\r0% [Waiting for headers] [Connecting to security.ubuntu.com (185.125.190.36)] [\r                                                                               \rGet:3 http://archive.ubuntu.com/ubuntu bionic-updates InRelease [88.7 kB]\n",
            "\r0% [3 InRelease 14.2 kB/88.7 kB 16%] [Connecting to security.ubuntu.com (185.12\r0% [1 InRelease gpgv 242 kB] [3 InRelease 14.2 kB/88.7 kB 16%] [Connecting to s\r0% [1 InRelease gpgv 242 kB] [Waiting for headers] [Waiting for headers] [Waiti\r                                                                               \rGet:4 http://archive.ubuntu.com/ubuntu bionic-backports InRelease [83.3 kB]\n",
            "\r0% [1 InRelease gpgv 242 kB] [4 InRelease 9,842 B/83.3 kB 12%] [Waiting for hea\r0% [1 InRelease gpgv 242 kB] [Waiting for headers] [Waiting for headers] [Waiti\r                                                                               \rGet:5 http://security.ubuntu.com/ubuntu bionic-security InRelease [88.7 kB]\n",
            "\r0% [1 InRelease gpgv 242 kB] [5 InRelease 14.2 kB/88.7 kB 16%] [Waiting for hea\r                                                                               \rHit:6 http://ppa.launchpad.net/c2d4u.team/c2d4u4.0+/ubuntu bionic InRelease\n",
            "\r0% [1 InRelease gpgv 242 kB] [5 InRelease 14.2 kB/88.7 kB 16%] [Waiting for hea\r                                                                               \rIgn:7 https://developer.download.nvidia.com/compute/machine-learning/repos/ubuntu1804/x86_64  InRelease\n",
            "\r0% [1 InRelease gpgv 242 kB] [5 InRelease 14.2 kB/88.7 kB 16%] [Waiting for hea\r0% [5 InRelease 14.2 kB/88.7 kB 16%] [Waiting for headers] [Connecting to ppa.l\r0% [2 InRelease gpgv 3,626 B] [5 InRelease 14.2 kB/88.7 kB 16%] [Waiting for he\r                                                                               \rHit:8 https://developer.download.nvidia.com/compute/cuda/repos/ubuntu1804/x86_64  InRelease\n",
            "Hit:9 https://developer.download.nvidia.com/compute/machine-learning/repos/ubuntu1804/x86_64  Release\n",
            "Hit:10 http://ppa.launchpad.net/cran/libgit2/ubuntu bionic InRelease\n",
            "Hit:11 http://ppa.launchpad.net/deadsnakes/ppa/ubuntu bionic InRelease\n",
            "Hit:12 http://ppa.launchpad.net/graphics-drivers/ppa/ubuntu bionic InRelease\n",
            "Fetched 261 kB in 1s (189 kB/s)\n",
            "Reading package lists... Done\n"
          ]
        }
      ],
      "source": [
        "!apt-get update -y"
      ]
    },
    {
      "cell_type": "code",
      "source": [
        "!apt-get install openjdk-8-jdk-headless -qq > /dev/null"
      ],
      "metadata": {
        "id": "5WMk41Xgwa1S"
      },
      "execution_count": 2,
      "outputs": []
    },
    {
      "cell_type": "code",
      "source": [
        "!wget -q https://archive.apache.org/dist/spark/spark-3.1.2/spark-3.1.2-bin-hadoop2.7.tgz"
      ],
      "metadata": {
        "id": "2UUhYWEUWr9D"
      },
      "execution_count": 3,
      "outputs": []
    },
    {
      "cell_type": "code",
      "source": [
        "!tar xf spark-3.1.2-bin-hadoop2.7.tgz\n"
      ],
      "metadata": {
        "id": "iQ3_1TAcW54I"
      },
      "execution_count": 4,
      "outputs": []
    },
    {
      "cell_type": "code",
      "source": [
        "import os\n",
        "os.environ[\"JAVA_HOME\"] = \"/usr/lib/jvm/java-8-openjdk-amd64\"\n",
        "os.environ[\"SPARK_HOME\"] = \"/content/spark-3.1.2-bin-hadoop2.7\"\n"
      ],
      "metadata": {
        "id": "TGvQDIUsXDiY"
      },
      "execution_count": 5,
      "outputs": []
    },
    {
      "cell_type": "code",
      "source": [
        "!pip install -q findspark\n",
        "import findspark\n",
        "findspark.init()\n"
      ],
      "metadata": {
        "id": "XCs8tirvXRUD"
      },
      "execution_count": 6,
      "outputs": []
    },
    {
      "cell_type": "code",
      "source": [
        "from pyspark.sql import SparkSession\n",
        "spark = (SparkSession\n",
        " .builder\n",
        " .appName(\"<app_name>\")\n",
        " .getOrCreate())\n"
      ],
      "metadata": {
        "id": "cgqmr-KMYNUN"
      },
      "execution_count": 7,
      "outputs": []
    },
    {
      "cell_type": "code",
      "source": [
        "# folder\n",
        "import gdown\n",
        "\n",
        "id = \"1QgWPHV_l25Ui9L7et8mkZohAOG59UTkQ\"\n",
        "gdown.download_folder(id=id, quiet=True, use_cookies=False)"
      ],
      "metadata": {
        "id": "GZbBAxXjYxMK",
        "colab": {
          "base_uri": "https://localhost:8080/"
        },
        "outputId": "1d10b794-b378-4561-9bff-e6bd254fa4c5"
      },
      "execution_count": 8,
      "outputs": [
        {
          "output_type": "execute_result",
          "data": {
            "text/plain": [
              "['/content/chess/chess_schema.png',\n",
              " '/content/chess/chess_wc_history_game_info.csv',\n",
              " '/content/chess/chess_wc_history_moves.csv',\n",
              " '/content/chess/eco_codes.csv']"
            ]
          },
          "metadata": {},
          "execution_count": 8
        }
      ]
    },
    {
      "cell_type": "code",
      "source": [
        "#Creating DataFrame using spark\n",
        "def create_validate_dataframes_views():\n",
        "  df_game_info = spark.read.option(\"header\", True).option(\"inferSchema\", True).csv(\"/content/chess/chess_wc_history_game_info.csv\")\n",
        "  df_game_info.createOrReplaceTempView(\"game_info\")\n",
        "  spark.sql(\"select * from game_info\").show()\n",
        "  \n",
        "  df_moves = spark.read.option(\"header\", True).option(\"inferSchema\", True).csv(\"/content/chess/chess_wc_history_moves.csv\")\n",
        "  df_moves.createOrReplaceTempView(\"moves\")\n",
        "  spark.sql(\"select * from moves\").show()\n",
        "  \n",
        "  \n",
        "  df_eco_codes = spark.read.option(\"header\", True).option(\"inferSchema\", True).csv(\"/content/chess/eco_codes.csv\")\n",
        "  df_eco_codes.createOrReplaceTempView(\"eco_codes\")\n",
        "  spark.sql(\"select * from eco_codes\").show()\n",
        "\n",
        "create_validate_dataframes_views()"
      ],
      "metadata": {
        "id": "wcUHdPeZZhEO",
        "colab": {
          "base_uri": "https://localhost:8080/"
        },
        "outputId": "b4fb6c11-b34b-45ff-e5a2-40b47609bd75"
      },
      "execution_count": 9,
      "outputs": [
        {
          "output_type": "stream",
          "name": "stdout",
          "text": [
            "+--------------------+----------+--------+----------+-----------+-----+----------------+----------------+-------+---------+---------+-----------+-----------+---------+----------+----------------+---------+---------------------+---+--------------------+---------------+\n",
            "|             game_id|game_order|   event|      site|date_played|round|           white|           black| result|white_elo|black_elo|white_title|black_title|   winner|winner_elo|           loser|loser_elo|winner_loser_elo_diff|eco|        date_created|tournament_name|\n",
            "+--------------------+----------+--------+----------+-----------+-----+----------------+----------------+-------+---------+---------+-----------+-----------+---------+----------+----------------+---------+---------------------+---+--------------------+---------------+\n",
            "|86e0b7f5-7b94-4ae...|         1|WCh 2021| Dubai UAE| 2021.11.26|  1.0|Nepomniachtchi,I|       Carlsen,M|1/2-1/2|     2782|     2855|       null|       null|     draw|      null|            draw|     null|                    0|C88|2022-07-22T22:33:...| WorldChamp2021|\n",
            "|dc4a10ab-54cf-49d...|         2|WCh 2021| Dubai UAE| 2021.11.27|  2.0|       Carlsen,M|Nepomniachtchi,I|1/2-1/2|     2855|     2782|       null|       null|     draw|      null|            draw|     null|                    0|E06|2022-07-22T22:33:...| WorldChamp2021|\n",
            "|f042ca37-8899-488...|         3|WCh 2021| Dubai UAE| 2021.11.28|  3.0|Nepomniachtchi,I|       Carlsen,M|1/2-1/2|     2782|     2855|       null|       null|     draw|      null|            draw|     null|                    0|C88|2022-07-22T22:33:...| WorldChamp2021|\n",
            "|f70e4bbc-21e3-46f...|         4|WCh 2021| Dubai UAE| 2021.11.30|  4.0|       Carlsen,M|Nepomniachtchi,I|1/2-1/2|     2855|     2782|       null|       null|     draw|      null|            draw|     null|                    0|C42|2022-07-22T22:33:...| WorldChamp2021|\n",
            "|c941c323-308a-4c8...|         5|WCh 2021| Dubai UAE| 2021.12.01|  5.0|Nepomniachtchi,I|       Carlsen,M|1/2-1/2|     2782|     2855|       null|       null|     draw|      null|            draw|     null|                    0|C88|2022-07-22T22:33:...| WorldChamp2021|\n",
            "|58e83255-93bb-4d5...|         6|WCh 2021| Dubai UAE| 2021.12.03|  6.0|       Carlsen,M|Nepomniachtchi,I|    1-0|     2855|     2782|       null|       null|Carlsen,M|      2855|Nepomniachtchi,I|     2782|                   73|D02|2022-07-22T22:33:...| WorldChamp2021|\n",
            "|29181d93-73f4-4fb...|         7|WCh 2021| Dubai UAE| 2021.12.04|  7.0|Nepomniachtchi,I|       Carlsen,M|1/2-1/2|     2782|     2855|       null|       null|     draw|      null|            draw|     null|                    0|C88|2022-07-22T22:33:...| WorldChamp2021|\n",
            "|8a4ccd8c-d437-429...|         8|WCh 2021| Dubai UAE| 2021.12.05|  8.0|       Carlsen,M|Nepomniachtchi,I|    1-0|     2855|     2782|       null|       null|Carlsen,M|      2855|Nepomniachtchi,I|     2782|                   73|C43|2022-07-22T22:33:...| WorldChamp2021|\n",
            "|55a122db-27d1-495...|         9|WCh 2021| Dubai UAE| 2021.12.07|  9.0|Nepomniachtchi,I|       Carlsen,M|    0-1|     2782|     2855|       null|       null|Carlsen,M|      2855|Nepomniachtchi,I|     2782|                   73|A13|2022-07-22T22:33:...| WorldChamp2021|\n",
            "|1f900d18-5ea3-4f4...|        10|WCh 2021| Dubai UAE| 2021.12.08| 10.0|       Carlsen,M|Nepomniachtchi,I|1/2-1/2|     2855|     2782|       null|       null|     draw|      null|            draw|     null|                    0|C42|2022-07-22T22:33:...| WorldChamp2021|\n",
            "|c512a953-a341-47c...|        11|WCh 2021| Dubai UAE| 2021.12.10| 11.0|Nepomniachtchi,I|       Carlsen,M|    0-1|     2782|     2855|       null|       null|Carlsen,M|      2855|Nepomniachtchi,I|     2782|                   73|C50|2022-07-22T22:33:...| WorldChamp2021|\n",
            "|99d39a93-427e-4d1...|         1|WCh 2018|London ENG| 2018.11.09|  1.0|Caruana, Fabiano| Carlsen, Magnus|1/2-1/2|     2832|     2835|         GM|         GM|     draw|      null|            draw|     null|                    0|B31|2022-07-22T22:33:...| WorldChamp2018|\n",
            "|c87ceb3e-67a7-45d...|         2|WCh 2018|London ENG| 2018.11.10|  2.0| Carlsen, Magnus|Caruana, Fabiano|1/2-1/2|     2835|     2832|         GM|         GM|     draw|      null|            draw|     null|                    0|D37|2022-07-22T22:33:...| WorldChamp2018|\n",
            "|d50510ea-9c1a-460...|         3|WCh 2018|London ENG| 2018.11.12|  3.0|Caruana, Fabiano| Carlsen, Magnus|1/2-1/2|     2832|     2835|         GM|         GM|     draw|      null|            draw|     null|                    0|B31|2022-07-22T22:33:...| WorldChamp2018|\n",
            "|e899e16a-281e-41b...|         4|WCh 2018|London ENG| 2018.11.13|  4.0| Carlsen, Magnus|Caruana, Fabiano|1/2-1/2|     2835|     2832|         GM|         GM|     draw|      null|            draw|     null|                    0|A29|2022-07-22T22:33:...| WorldChamp2018|\n",
            "|59f8da88-fd21-405...|         5|WCh 2018|London ENG| 2018.11.15|  5.0|Caruana, Fabiano| Carlsen, Magnus|1/2-1/2|     2832|     2835|         GM|         GM|     draw|      null|            draw|     null|                    0|B31|2022-07-22T22:33:...| WorldChamp2018|\n",
            "|6dcc4b46-3155-47e...|         6|WCh 2018|London ENG| 2018.11.16|  6.0| Carlsen, Magnus|Caruana, Fabiano|1/2-1/2|     2835|     2832|         GM|         GM|     draw|      null|            draw|     null|                    0|C42|2022-07-22T22:33:...| WorldChamp2018|\n",
            "|c0c727cf-03ec-4b4...|         7|WCh 2018|London ENG| 2018.11.18|  7.0| Carlsen, Magnus|Caruana, Fabiano|1/2-1/2|     2835|     2832|         GM|         GM|     draw|      null|            draw|     null|                    0|D37|2022-07-22T22:33:...| WorldChamp2018|\n",
            "|4c14e044-cacc-405...|         8|WCh 2018|London ENG| 2018.11.19|  8.0|Caruana, Fabiano| Carlsen, Magnus|1/2-1/2|     2832|     2835|         GM|         GM|     draw|      null|            draw|     null|                    0|B33|2022-07-22T22:33:...| WorldChamp2018|\n",
            "|3f4eb26e-3cd1-43b...|         9|WCh 2018|London ENG| 2018.11.21|  9.0| Carlsen, Magnus|Caruana, Fabiano|1/2-1/2|     2835|     2832|         GM|         GM|     draw|      null|            draw|     null|                    0|A29|2022-07-22T22:33:...| WorldChamp2018|\n",
            "+--------------------+----------+--------+----------+-----------+-----+----------------+----------------+-------+---------+---------+-----------+-----------+---------+----------+----------------+---------+---------------------+---+--------------------+---------------+\n",
            "only showing top 20 rows\n",
            "\n",
            "+--------------------+-------+------------+----------------+--------+----+-----------+---------+-----+-----+--------------------+--------+-------------+--------------+----------------------+------------+------------------------+-----------+-----------+----------------+----------------+-----------------+-----------------+------------------+------------------+------------------+------------------+----------------+----------------+------------------------+------------------------+--------------------+--------------------+--------------------+--------------------+--------------------+--------------------+--------------------+--------------------+--------------------+--------------------+--------------------+--------------------+--------------------+--------------------+--------------------+--------------------+--------------------+--------------------+--------------------+--------------------+--------------------+--------------------+--------------------+--------------------+--------------------+--------------------+--------------------+--------------------+--------------------+--------------------+--------------------+--------------------+--------------------+\n",
            "|             game_id|move_no|move_no_pair|          player|notation|move|from_square|to_square|piece|color|                 fen|is_check|is_check_mate|is_fifty_moves|is_fivefold_repetition|is_game_over|is_insufficient_material|white_count|black_count|white_pawn_count|black_pawn_count|white_queen_count|black_queen_count|white_bishop_count|black_bishop_count|white_knight_count|black_knight_count|white_rook_count|black_rook_count|captured_score_for_white|captured_score_for_black|fen_row1_white_count|fen_row2_white_count|fen_row3_white_count|fen_row4_white_count|fen_row5_white_count|fen_row6_white_count|fen_row7_white_count|fen_row8_white_count|fen_row1_white_value|fen_row2_white_value|fen_row3_white_value|fen_row4_white_value|fen_row5_white_value|fen_row6_white_value|fen_row7_white_value|fen_row8_white_value|fen_row1_black_count|fen_row2_black_count|fen_row3_black_count|fen_row4_black_count|fen_row5_black_count|fen_row6_black_count|fen_row7_black_count|fen_row8_black_count|fen_row1_black_value|fen_row2_black_value|fen_row3_black_value|fen_row4_black_value|fen_row5_black_value|fen_row6_black_value|fen_row7_black_value|fen_row8_black_value|       move_sequence|\n",
            "+--------------------+-------+------------+----------------+--------+----+-----------+---------+-----+-----+--------------------+--------+-------------+--------------+----------------------+------------+------------------------+-----------+-----------+----------------+----------------+-----------------+-----------------+------------------+------------------+------------------+------------------+----------------+----------------+------------------------+------------------------+--------------------+--------------------+--------------------+--------------------+--------------------+--------------------+--------------------+--------------------+--------------------+--------------------+--------------------+--------------------+--------------------+--------------------+--------------------+--------------------+--------------------+--------------------+--------------------+--------------------+--------------------+--------------------+--------------------+--------------------+--------------------+--------------------+--------------------+--------------------+--------------------+--------------------+--------------------+--------------------+--------------------+\n",
            "|86e0b7f5-7b94-4ae...|      1|           1|Nepomniachtchi,I|      e4|e2e4|         e2|       e4|    P|White|rnbqkbnr/pppppppp...|       0|            0|             0|                     0|           0|                       0|         16|         16|               8|               8|                1|                1|                 2|                 2|                 2|                 2|               2|               2|                       0|                       0|                   8|                   7|                   0|                   1|                   0|                   0|                   0|                   0|                  31|                   7|                   0|                   1|                   0|                   0|                   0|                   0|                   0|                   0|                   0|                   0|                   0|                   0|                   8|                   8|                   0|                   0|                   0|                   0|                   0|                   0|                   8|                  31|                  e4|\n",
            "|86e0b7f5-7b94-4ae...|      2|           1|       Carlsen,M|      e5|e7e5|         e7|       e5|    P|Black|rnbqkbnr/pppp1ppp...|       0|            0|             0|                     0|           0|                       0|         16|         16|               8|               8|                1|                1|                 2|                 2|                 2|                 2|               2|               2|                       0|                       0|                   8|                   7|                   0|                   1|                   0|                   0|                   0|                   0|                  31|                   7|                   0|                   1|                   0|                   0|                   0|                   0|                   0|                   0|                   0|                   0|                   1|                   0|                   7|                   8|                   0|                   0|                   0|                   0|                   1|                   0|                   7|                  31|               e4|e5|\n",
            "|86e0b7f5-7b94-4ae...|      3|           2|Nepomniachtchi,I|     Nf3|g1f3|         g1|       f3|    N|White|rnbqkbnr/pppp1ppp...|       0|            0|             0|                     0|           0|                       0|         16|         16|               8|               8|                1|                1|                 2|                 2|                 2|                 2|               2|               2|                       0|                       0|                   7|                   7|                   1|                   1|                   0|                   0|                   0|                   0|                  28|                   7|                   3|                   1|                   0|                   0|                   0|                   0|                   0|                   0|                   0|                   0|                   1|                   0|                   7|                   8|                   0|                   0|                   0|                   0|                   1|                   0|                   7|                  31|           e4|e5|Nf3|\n",
            "|86e0b7f5-7b94-4ae...|      4|           2|       Carlsen,M|     Nc6|b8c6|         b8|       c6|    N|Black|r1bqkbnr/pppp1ppp...|       0|            0|             0|                     0|           0|                       0|         16|         16|               8|               8|                1|                1|                 2|                 2|                 2|                 2|               2|               2|                       0|                       0|                   7|                   7|                   1|                   1|                   0|                   0|                   0|                   0|                  28|                   7|                   3|                   1|                   0|                   0|                   0|                   0|                   0|                   0|                   0|                   0|                   1|                   1|                   7|                   7|                   0|                   0|                   0|                   0|                   1|                   3|                   7|                  28|       e4|e5|Nf3|Nc6|\n",
            "|86e0b7f5-7b94-4ae...|      5|           3|Nepomniachtchi,I|     Bb5|f1b5|         f1|       b5|    B|White|r1bqkbnr/pppp1ppp...|       0|            0|             0|                     0|           0|                       0|         16|         16|               8|               8|                1|                1|                 2|                 2|                 2|                 2|               2|               2|                       0|                       0|                   6|                   7|                   1|                   1|                   1|                   0|                   0|                   0|                  25|                   7|                   3|                   1|                   3|                   0|                   0|                   0|                   0|                   0|                   0|                   0|                   1|                   1|                   7|                   7|                   0|                   0|                   0|                   0|                   1|                   3|                   7|                  28|   e4|e5|Nf3|Nc6|Bb5|\n",
            "|86e0b7f5-7b94-4ae...|      6|           3|       Carlsen,M|      a6|a7a6|         a7|       a6|    P|Black|r1bqkbnr/1ppp1ppp...|       0|            0|             0|                     0|           0|                       0|         16|         16|               8|               8|                1|                1|                 2|                 2|                 2|                 2|               2|               2|                       0|                       0|                   6|                   7|                   1|                   1|                   1|                   0|                   0|                   0|                  25|                   7|                   3|                   1|                   3|                   0|                   0|                   0|                   0|                   0|                   0|                   0|                   1|                   2|                   6|                   7|                   0|                   0|                   0|                   0|                   1|                   4|                   6|                  28|e4|e5|Nf3|Nc6|Bb5|a6|\n",
            "|86e0b7f5-7b94-4ae...|      7|           4|Nepomniachtchi,I|     Ba4|b5a4|         b5|       a4|    B|White|r1bqkbnr/1ppp1ppp...|       0|            0|             0|                     0|           0|                       0|         16|         16|               8|               8|                1|                1|                 2|                 2|                 2|                 2|               2|               2|                       0|                       0|                   6|                   7|                   1|                   2|                   0|                   0|                   0|                   0|                  25|                   7|                   3|                   4|                   0|                   0|                   0|                   0|                   0|                   0|                   0|                   0|                   1|                   2|                   6|                   7|                   0|                   0|                   0|                   0|                   1|                   4|                   6|                  28|e4|e5|Nf3|Nc6|Bb5...|\n",
            "|86e0b7f5-7b94-4ae...|      8|           4|       Carlsen,M|     Nf6|g8f6|         g8|       f6|    N|Black|r1bqkb1r/1ppp1ppp...|       0|            0|             0|                     0|           0|                       0|         16|         16|               8|               8|                1|                1|                 2|                 2|                 2|                 2|               2|               2|                       0|                       0|                   6|                   7|                   1|                   2|                   0|                   0|                   0|                   0|                  25|                   7|                   3|                   4|                   0|                   0|                   0|                   0|                   0|                   0|                   0|                   0|                   1|                   3|                   6|                   6|                   0|                   0|                   0|                   0|                   1|                   7|                   6|                  25|e4|e5|Nf3|Nc6|Bb5...|\n",
            "|86e0b7f5-7b94-4ae...|      9|           5|Nepomniachtchi,I|     O-O|e1g1|         e1|       g1|    K|White|r1bqkb1r/1ppp1ppp...|       0|            0|             0|                     0|           0|                       0|         16|         16|               8|               8|                1|                1|                 2|                 2|                 2|                 2|               2|               2|                       0|                       0|                   6|                   7|                   1|                   2|                   0|                   0|                   0|                   0|                  25|                   7|                   3|                   4|                   0|                   0|                   0|                   0|                   0|                   0|                   0|                   0|                   1|                   3|                   6|                   6|                   0|                   0|                   0|                   0|                   1|                   7|                   6|                  25|e4|e5|Nf3|Nc6|Bb5...|\n",
            "|86e0b7f5-7b94-4ae...|     10|           5|       Carlsen,M|     Be7|f8e7|         f8|       e7|    B|Black|r1bqk2r/1pppbppp/...|       0|            0|             0|                     0|           0|                       0|         16|         16|               8|               8|                1|                1|                 2|                 2|                 2|                 2|               2|               2|                       0|                       0|                   6|                   7|                   1|                   2|                   0|                   0|                   0|                   0|                  25|                   7|                   3|                   4|                   0|                   0|                   0|                   0|                   0|                   0|                   0|                   0|                   1|                   3|                   7|                   5|                   0|                   0|                   0|                   0|                   1|                   7|                   9|                  22|e4|e5|Nf3|Nc6|Bb5...|\n",
            "|86e0b7f5-7b94-4ae...|     11|           6|Nepomniachtchi,I|     Re1|f1e1|         f1|       e1|    R|White|r1bqk2r/1pppbppp/...|       0|            0|             0|                     0|           0|                       0|         16|         16|               8|               8|                1|                1|                 2|                 2|                 2|                 2|               2|               2|                       0|                       0|                   6|                   7|                   1|                   2|                   0|                   0|                   0|                   0|                  25|                   7|                   3|                   4|                   0|                   0|                   0|                   0|                   0|                   0|                   0|                   0|                   1|                   3|                   7|                   5|                   0|                   0|                   0|                   0|                   1|                   7|                   9|                  22|e4|e5|Nf3|Nc6|Bb5...|\n",
            "|86e0b7f5-7b94-4ae...|     12|           6|       Carlsen,M|      b5|b7b5|         b7|       b5|    P|Black|r1bqk2r/2ppbppp/p...|       0|            0|             0|                     0|           0|                       0|         16|         16|               8|               8|                1|                1|                 2|                 2|                 2|                 2|               2|               2|                       0|                       0|                   6|                   7|                   1|                   2|                   0|                   0|                   0|                   0|                  25|                   7|                   3|                   4|                   0|                   0|                   0|                   0|                   0|                   0|                   0|                   0|                   2|                   3|                   6|                   5|                   0|                   0|                   0|                   0|                   2|                   7|                   8|                  22|e4|e5|Nf3|Nc6|Bb5...|\n",
            "|86e0b7f5-7b94-4ae...|     13|           7|Nepomniachtchi,I|     Bb3|a4b3|         a4|       b3|    B|White|r1bqk2r/2ppbppp/p...|       0|            0|             0|                     0|           0|                       0|         16|         16|               8|               8|                1|                1|                 2|                 2|                 2|                 2|               2|               2|                       0|                       0|                   6|                   7|                   2|                   1|                   0|                   0|                   0|                   0|                  25|                   7|                   6|                   1|                   0|                   0|                   0|                   0|                   0|                   0|                   0|                   0|                   2|                   3|                   6|                   5|                   0|                   0|                   0|                   0|                   2|                   7|                   8|                  22|e4|e5|Nf3|Nc6|Bb5...|\n",
            "|86e0b7f5-7b94-4ae...|     14|           7|       Carlsen,M|     O-O|e8g8|         e8|       g8|    K|Black|r1bq1rk1/2ppbppp/...|       0|            0|             0|                     0|           0|                       0|         16|         16|               8|               8|                1|                1|                 2|                 2|                 2|                 2|               2|               2|                       0|                       0|                   6|                   7|                   2|                   1|                   0|                   0|                   0|                   0|                  25|                   7|                   6|                   1|                   0|                   0|                   0|                   0|                   0|                   0|                   0|                   0|                   2|                   3|                   6|                   5|                   0|                   0|                   0|                   0|                   2|                   7|                   8|                  22|e4|e5|Nf3|Nc6|Bb5...|\n",
            "|86e0b7f5-7b94-4ae...|     15|           8|Nepomniachtchi,I|      h3|h2h3|         h2|       h3|    P|White|r1bq1rk1/2ppbppp/...|       0|            0|             0|                     0|           0|                       0|         16|         16|               8|               8|                1|                1|                 2|                 2|                 2|                 2|               2|               2|                       0|                       0|                   6|                   6|                   3|                   1|                   0|                   0|                   0|                   0|                  25|                   6|                   7|                   1|                   0|                   0|                   0|                   0|                   0|                   0|                   0|                   0|                   2|                   3|                   6|                   5|                   0|                   0|                   0|                   0|                   2|                   7|                   8|                  22|e4|e5|Nf3|Nc6|Bb5...|\n",
            "|86e0b7f5-7b94-4ae...|     16|           8|       Carlsen,M|     Na5|c6a5|         c6|       a5|    N|Black|r1bq1rk1/2ppbppp/...|       0|            0|             0|                     0|           0|                       0|         16|         16|               8|               8|                1|                1|                 2|                 2|                 2|                 2|               2|               2|                       0|                       0|                   6|                   6|                   3|                   1|                   0|                   0|                   0|                   0|                  25|                   6|                   7|                   1|                   0|                   0|                   0|                   0|                   0|                   0|                   0|                   0|                   3|                   2|                   6|                   5|                   0|                   0|                   0|                   0|                   5|                   4|                   8|                  22|e4|e5|Nf3|Nc6|Bb5...|\n",
            "|86e0b7f5-7b94-4ae...|     17|           9|Nepomniachtchi,I|    Nxe5|f3e5|         f3|       e5|    N|White|r1bq1rk1/2ppbppp/...|       0|            0|             0|                     0|           0|                       0|         16|         15|               8|               7|                1|                1|                 2|                 2|                 2|                 2|               2|               2|                       1|                       0|                   6|                   6|                   2|                   1|                   1|                   0|                   0|                   0|                  25|                   6|                   4|                   1|                   3|                   0|                   0|                   0|                   0|                   0|                   0|                   0|                   2|                   2|                   6|                   5|                   0|                   0|                   0|                   0|                   4|                   4|                   8|                  22|e4|e5|Nf3|Nc6|Bb5...|\n",
            "|86e0b7f5-7b94-4ae...|     18|           9|       Carlsen,M|    Nxb3|a5b3|         a5|       b3|    N|Black|r1bq1rk1/2ppbppp/...|       0|            0|             0|                     0|           0|                       0|         15|         15|               8|               7|                1|                1|                 1|                 2|                 2|                 2|               2|               2|                       1|                       3|                   6|                   6|                   1|                   1|                   1|                   0|                   0|                   0|                  25|                   6|                   1|                   1|                   3|                   0|                   0|                   0|                   0|                   0|                   1|                   0|                   1|                   2|                   6|                   5|                   0|                   0|                   3|                   0|                   1|                   4|                   8|                  22|e4|e5|Nf3|Nc6|Bb5...|\n",
            "|86e0b7f5-7b94-4ae...|     19|          10|Nepomniachtchi,I|    axb3|a2b3|         a2|       b3|    P|White|r1bq1rk1/2ppbppp/...|       0|            0|             0|                     0|           0|                       0|         15|         14|               8|               7|                1|                1|                 1|                 2|                 2|                 1|               2|               2|                       4|                       3|                   6|                   5|                   2|                   1|                   1|                   0|                   0|                   0|                  25|                   5|                   2|                   1|                   3|                   0|                   0|                   0|                   0|                   0|                   0|                   0|                   1|                   2|                   6|                   5|                   0|                   0|                   0|                   0|                   1|                   4|                   8|                  22|e4|e5|Nf3|Nc6|Bb5...|\n",
            "|86e0b7f5-7b94-4ae...|     20|          10|       Carlsen,M|     Bb7|c8b7|         c8|       b7|    B|Black|r2q1rk1/1bppbppp/...|       0|            0|             0|                     0|           0|                       0|         15|         14|               8|               7|                1|                1|                 1|                 2|                 2|                 1|               2|               2|                       4|                       3|                   6|                   5|                   2|                   1|                   1|                   0|                   0|                   0|                  25|                   5|                   2|                   1|                   3|                   0|                   0|                   0|                   0|                   0|                   0|                   0|                   1|                   2|                   7|                   4|                   0|                   0|                   0|                   0|                   1|                   4|                  11|                  19|e4|e5|Nf3|Nc6|Bb5...|\n",
            "+--------------------+-------+------------+----------------+--------+----+-----------+---------+-----+-----+--------------------+--------+-------------+--------------+----------------------+------------+------------------------+-----------+-----------+----------------+----------------+-----------------+-----------------+------------------+------------------+------------------+------------------+----------------+----------------+------------------------+------------------------+--------------------+--------------------+--------------------+--------------------+--------------------+--------------------+--------------------+--------------------+--------------------+--------------------+--------------------+--------------------+--------------------+--------------------+--------------------+--------------------+--------------------+--------------------+--------------------+--------------------+--------------------+--------------------+--------------------+--------------------+--------------------+--------------------+--------------------+--------------------+--------------------+--------------------+--------------------+--------------------+--------------------+\n",
            "only showing top 20 rows\n",
            "\n",
            "+---+--------------------+--------------------+--------+---------+\n",
            "|eco|            eco_name|         eco_example|eco_type|eco_group|\n",
            "+---+--------------------+--------------------+--------+---------+\n",
            "|A00|    Uncommon Opening|  1 g4, a3, h3, etc.|       A|    Flank|\n",
            "|A01|Nimzovich-Larsen ...|                1 b3|       A|    Flank|\n",
            "|A02|      Bird's Opening|                1 f4|       A|    Flank|\n",
            "|A03|      Bird's Opening|             1 f4 d5|       A|    Flank|\n",
            "|A04|        Reti Opening|               1 Nf3|       A|    Flank|\n",
            "|A05|        Reti Opening|           1 Nf3 Nf6|       A|    Flank|\n",
            "|A06|        Reti Opening|            1 Nf3 d5|       A|    Flank|\n",
            "|A07|King's Indian Attack|       1 Nf3 d5 2 g3|       A|    Flank|\n",
            "|A08|King's Indian Attack|1 Nf3 d5 2 g3 c5 ...|       A|    Flank|\n",
            "|A09|        Reti Opening|       1 Nf3 d5 2 c4|       A|    Flank|\n",
            "|A10|             English|                1 c4|       A|    Flank|\n",
            "|A11|English, Caro-Kan...|             1 c4 c6|       A|    Flank|\n",
            "|A12|     English with b3|1 c4 c6 2 Nf3 d5 ...|       A|    Flank|\n",
            "|A13|             English|             1 c4 e6|       A|    Flank|\n",
            "|A14|             English|1 c4 e6 2 Nf3 d5 ...|       A|    Flank|\n",
            "|A15|             English|            1 c4 Nf6|       A|    Flank|\n",
            "|A16|             English|      1 c4 Nf6 2 Nc3|       A|    Flank|\n",
            "|A17|             English|   1 c4 Nf6 2 Nc3 e6|       A|    Flank|\n",
            "|A18|English, Mikenas-...|1 c4 Nf6 2 Nc3 e6...|       A|    Flank|\n",
            "|A19|English, Mikenas-...|1 c4 Nf6 2 Nc3 e6...|       A|    Flank|\n",
            "+---+--------------------+--------------------+--------+---------+\n",
            "only showing top 20 rows\n",
            "\n"
          ]
        }
      ]
    },
    {
      "cell_type": "markdown",
      "source": [
        "1. List of Winners of Each World champions Trophy Hint: Total Result of all rounds of Tournament for that player is considered as that player's \n",
        "Score/Result."
      ],
      "metadata": {
        "id": "GGlQDtH2UeMq"
      }
    },
    {
      "cell_type": "code",
      "source": [
        "# extract data with sql query find winner and tournament name \n",
        "world_champ_winners_df = spark.sql(\"select winner,tournament_name from game_info group by tournament_name,winner having tournament_name like 'WorldChamp%' order by tournament_name desc\")"
      ],
      "metadata": {
        "id": "k68t5pLbi9eX"
      },
      "execution_count": 10,
      "outputs": []
    },
    {
      "cell_type": "code",
      "source": [
        "world_champ_winners_df.show()"
      ],
      "metadata": {
        "id": "DC6abXjqjRIJ",
        "colab": {
          "base_uri": "https://localhost:8080/"
        },
        "outputId": "a0d3bb2c-c352-4a56-adee-7069a40b5ed3"
      },
      "execution_count": 11,
      "outputs": [
        {
          "output_type": "stream",
          "name": "stdout",
          "text": [
            "+------------------+---------------+\n",
            "|            winner|tournament_name|\n",
            "+------------------+---------------+\n",
            "|              draw| WorldChamp2021|\n",
            "|         Carlsen,M| WorldChamp2021|\n",
            "|              draw| WorldChamp2018|\n",
            "|   Carlsen, Magnus| WorldChamp2016|\n",
            "|  Karjakin, Sergey| WorldChamp2016|\n",
            "|              draw| WorldChamp2016|\n",
            "|Anand, Viswanathan| WorldChamp2014|\n",
            "|   Carlsen, Magnus| WorldChamp2014|\n",
            "|              draw| WorldChamp2014|\n",
            "|              draw| WorldChamp2013|\n",
            "|   Carlsen, Magnus| WorldChamp2013|\n",
            "|              draw| WorldChamp2012|\n",
            "|         Gelfand,B| WorldChamp2012|\n",
            "|           Anand,V| WorldChamp2012|\n",
            "|Anand, Viswanathan| WorldChamp2012|\n",
            "|           Anand,V| WorldChamp2010|\n",
            "|              draw| WorldChamp2010|\n",
            "|         Topalov,V| WorldChamp2010|\n",
            "|         Kramnik,V| WorldChamp2008|\n",
            "|           Anand,V| WorldChamp2008|\n",
            "+------------------+---------------+\n",
            "only showing top 20 rows\n",
            "\n"
          ]
        }
      ]
    },
    {
      "cell_type": "code",
      "source": [
        "import os"
      ],
      "metadata": {
        "id": "VvDT_B08j4Rx"
      },
      "execution_count": 12,
      "outputs": []
    },
    {
      "cell_type": "code",
      "source": [
        "# Directory \n",
        "directory = \"DE_SOLUTION_Paresh_patil/results/\""
      ],
      "metadata": {
        "id": "EwWuDtmukQp8"
      },
      "execution_count": 13,
      "outputs": []
    },
    {
      "cell_type": "code",
      "source": [
        "# Parent Directory Path\n",
        "parent_dir = \"/content/drive/MyDrive/\""
      ],
      "metadata": {
        "id": "_9LryphSklPO"
      },
      "execution_count": 14,
      "outputs": []
    },
    {
      "cell_type": "code",
      "source": [
        "# Path\n",
        "path = os.path.join(parent_dir, directory)"
      ],
      "metadata": {
        "id": "FxwJB6U2kwOy"
      },
      "execution_count": 15,
      "outputs": []
    },
    {
      "cell_type": "code",
      "source": [
        "# Create the directory\n",
        "try:\n",
        "    os.makedirs(path, exist_ok = True)\n",
        "    print(\"Directory '%s' created successfully\" % directory)\n",
        "except OSError as error:\n",
        "    print(\"Directory '%s' can not be created\" % directory)\n"
      ],
      "metadata": {
        "id": "Xnjxmfmpl1ok",
        "colab": {
          "base_uri": "https://localhost:8080/"
        },
        "outputId": "0522f8e0-600e-4125-857d-b023e2555984"
      },
      "execution_count": 16,
      "outputs": [
        {
          "output_type": "stream",
          "name": "stdout",
          "text": [
            "Directory 'DE_SOLUTION_Paresh_patil/results/' created successfully\n"
          ]
        }
      ]
    },
    {
      "cell_type": "code",
      "source": [
        "# convert data into pandas dataframes\n",
        "def world_champ_winners(df1):\n",
        "  world_champ_winners_pandas = world_champ_winners_df.toPandas()\n",
        "  # convert pandas data into csv format\n",
        "  world_champ_winners_pandas.to_csv(\"/content/drive/MyDrive/DE_SOLUTION_Paresh_patil/results/df1.csv\")\n",
        "\n",
        "world_champ_winners(world_champ_winners_df)"
      ],
      "metadata": {
        "id": "YOpzrY_imH3C"
      },
      "execution_count": 17,
      "outputs": []
    },
    {
      "cell_type": "markdown",
      "source": [
        "2. List of Players with number of times they have won Tournament in descending order(Max to min). Result attributes: player_name, number_of_wins"
      ],
      "metadata": {
        "id": "G116KJuzVqME"
      }
    },
    {
      "cell_type": "code",
      "source": [
        "# extract player name and number of wins of tournament \n",
        "# select game_info table \n",
        "players_won_tournament_df = spark.sql('''select winner as player_name,\n",
        "                                      count(winner) as number_of_wins\n",
        "                                      from game_info\n",
        "                                      where winner != \"draw\"\n",
        "                                      group by winner\n",
        "                                      order by count(winner) desc''')  \n",
        "players_won_tournament_df.show()\n",
        "# df.show()"
      ],
      "metadata": {
        "id": "AmiShjmnnHJR",
        "colab": {
          "base_uri": "https://localhost:8080/"
        },
        "outputId": "4e83c304-e089-4e4e-f7ed-dd7efad6f989"
      },
      "execution_count": 18,
      "outputs": [
        {
          "output_type": "stream",
          "name": "stdout",
          "text": [
            "+--------------------+--------------+\n",
            "|         player_name|number_of_wins|\n",
            "+--------------------+--------------+\n",
            "|     Lasker, Emanuel|            52|\n",
            "|     Karpov, Anatoly|            47|\n",
            "|  Botvinnik, Mikhail|            46|\n",
            "|   Steinitz, William|            43|\n",
            "| Alekhine, Alexander|            43|\n",
            "|           Topalov,V|            32|\n",
            "|      Kasparov, Gary|            31|\n",
            "|             Anand,V|            30|\n",
            "|    Smyslov, Vassily|            24|\n",
            "|            Adams,Mi|            20|\n",
            "|      Kasimdzhanov,R|            19|\n",
            "|          Grischuk,A|            17|\n",
            "|           Svidler,P|            16|\n",
            "|      Adams, Michael|            16|\n",
            "|            Bareev,E|            15|\n",
            "|            Shirov,A|            15|\n",
            "|             Dreev,A|            15|\n",
            "|   Chigorin, Mikhail|            14|\n",
            "|Khalifman, Alexander|            14|\n",
            "|           Euwe, Max|            14|\n",
            "+--------------------+--------------+\n",
            "only showing top 20 rows\n",
            "\n"
          ]
        }
      ]
    },
    {
      "cell_type": "code",
      "source": [
        "def players_won_tournament_(df2):\n",
        "  players_won_tournament_df_ = players_won_tournament_df.toPandas()\n",
        "  players_won_tournament_df_.to_csv('''/content/drive/MyDrive/DE_SOLUTION_Paresh_patil/results/df2.csv''')\n",
        "\n",
        "\n",
        "players_won_tournament_(players_won_tournament_df)"
      ],
      "metadata": {
        "id": "ieYKcQS-PsS_"
      },
      "execution_count": 19,
      "outputs": []
    },
    {
      "cell_type": "markdown",
      "source": [
        "3. Most and Least Popular eco move in world championship history.\n",
        "Result attributes: eco, eco_name, number_of_occurences \n",
        "Final result will have only two rows"
      ],
      "metadata": {
        "id": "zby0EOg_YXYx"
      }
    },
    {
      "cell_type": "code",
      "source": [
        "# create two dataframes that contain most and least eco move and unionall \n",
        "# select eco_codes table \n",
        "most_popular_eco_codes_df = spark.sql('''select eco_name,eco_type,\n",
        "                                    count(eco_name) as number_of_occurences\n",
        "                                    from eco_codes\n",
        "                                    group by eco_name,eco_type\n",
        "                                    order by count(eco_name) desc \n",
        "                                    limit 1''')\n",
        "least_popular_eco_codes_df = spark.sql('''select eco_name,eco_type,\n",
        "                                      count(eco_name) as number_of_occurences\n",
        "                                      from eco_codes\n",
        "                                      group by eco_name,eco_type\n",
        "                                      order by count(eco_name) asc\n",
        "                                      limit 1''')\n",
        "popular_eco_moves_df = most_popular_eco_codes_df.unionAll(least_popular_eco_codes_df)\n",
        "popular_eco_moves_df.show()\n",
        "# df.show()"
      ],
      "metadata": {
        "colab": {
          "base_uri": "https://localhost:8080/"
        },
        "id": "91_snVz5YOmX",
        "outputId": "227e7f57-5431-4f3b-a280-5473785e9b5b"
      },
      "execution_count": 20,
      "outputs": [
        {
          "output_type": "stream",
          "name": "stdout",
          "text": [
            "+--------------------+--------+--------------------+\n",
            "|            eco_name|eco_type|number_of_occurences|\n",
            "+--------------------+--------+--------------------+\n",
            "|            Sicilian|       B|                  15|\n",
            "|Ruy Lopez, Classical|       C|                   1|\n",
            "+--------------------+--------+--------------------+\n",
            "\n"
          ]
        }
      ]
    },
    {
      "cell_type": "code",
      "source": [
        "def popular_eco_moves(df3):\n",
        "  popular_eco_moves_df_= popular_eco_moves_df.toPandas()\n",
        "  popular_eco_moves_df_.to_csv('''/content/drive/MyDrive/DE_SOLUTION_Paresh_patil/results/df3.csv''')\n",
        "\n",
        "popular_eco_moves(popular_eco_moves_df)"
      ],
      "metadata": {
        "id": "ma-qSpDAcF8b"
      },
      "execution_count": 21,
      "outputs": []
    },
    {
      "cell_type": "markdown",
      "source": [
        "4. Find the eco move with most winnings.\n",
        "Ps. Use this opening move in your next chess game🙂\n",
        "Result attributes: eco, eco_name\n"
      ],
      "metadata": {
        "id": "7p8hnDUHeZC2"
      }
    },
    {
      "cell_type": "code",
      "source": [
        "# extract data eco move with most winning \n",
        "# select table game_info and eco_codes and join \n",
        "most_winnings_df = spark.sql('''select eco_name, winner\n",
        "                             from (select B.eco_name, A.winner, count(A.winner) as winning_count\n",
        "                                    from game_info as A\n",
        "                                    left join eco_codes as B\n",
        "                                    on B.eco = A.eco\n",
        "                                    where winner !=\"draw\"\n",
        "                                    group by B.eco_name, A.winner\n",
        "                                    order by winning_count desc)''')\n",
        "most_winnings_df.show()"
      ],
      "metadata": {
        "colab": {
          "base_uri": "https://localhost:8080/"
        },
        "id": "V0oKmsTGeDo4",
        "outputId": "b95bd4bb-1d8f-421a-ef54-850d2916a1cf"
      },
      "execution_count": 22,
      "outputs": [
        {
          "output_type": "stream",
          "name": "stdout",
          "text": [
            "+--------------------+-------------------+\n",
            "|            eco_name|             winner|\n",
            "+--------------------+-------------------+\n",
            "|Queen's Gambit De...|Alekhine, Alexander|\n",
            "|Queen's Gambit De...|Alekhine, Alexander|\n",
            "|        Evans Gambit|  Chigorin, Mikhail|\n",
            "|           Ruy Lopez|    Lasker, Emanuel|\n",
            "|Queen's Gambit De...|    Karpov, Anatoly|\n",
            "|Queen's Gambit De...|    Lasker, Emanuel|\n",
            "|   Ruy Lopez, Closed|     Kasparov, Gary|\n",
            "|Ruy Lopez, Berlin...|  Steinitz, William|\n",
            "| Ruy Lopez, Exchange|    Lasker, Emanuel|\n",
            "|Queen's Gambit De...|  Steinitz, William|\n",
            "|        Evans Gambit|  Steinitz, William|\n",
            "|   Grunfeld, Russian|    Karpov, Anatoly|\n",
            "|Queen's Gambit De...|   Bogoljubow, Efim|\n",
            "|           Ruy Lopez|  Steinitz, William|\n",
            "|Queen's Gambit De...|     Kasparov, Gary|\n",
            "|Queen's Gambit De...|    Lasker, Emanuel|\n",
            "|              French|    Lasker, Emanuel|\n",
            "|     Ruy Lopez, Open|    Karpov, Anatoly|\n",
            "|           Ruy Lopez|     Kasparov, Gary|\n",
            "|English, Four Kni...|    Karpov, Anatoly|\n",
            "+--------------------+-------------------+\n",
            "only showing top 20 rows\n",
            "\n"
          ]
        }
      ]
    },
    {
      "cell_type": "code",
      "source": [
        "def most_winnings(df3):\n",
        "  most_winnings_df_= most_winnings_df.toPandas()\n",
        "  most_winnings_df_= most_winnings_df_.to_csv('''/content/drive/MyDrive/DE_SOLUTION_Paresh_patil/results/df4.csv''')\n",
        "\n",
        "most_winnings(most_winnings_df)"
      ],
      "metadata": {
        "id": "S2K6os9blMch"
      },
      "execution_count": 23,
      "outputs": []
    },
    {
      "cell_type": "markdown",
      "source": [
        "5. Longest and shortest game ever played in a world championship in terms of move.\n",
        "Chess Funda: \"move\" is completed once both White and Black have played one turn. e.g If a game lasts 10 moves, both White and Black have \n",
        "played 10 moves)\n",
        "Result attributes: game_id, event, tournament_name, number_of_moves \n",
        "Final result will have only two rows"
      ],
      "metadata": {
        "id": "WHL8lL3dmXHZ"
      }
    },
    {
      "cell_type": "code",
      "source": [
        "# extract data for longest and shortest played in wold championship in term of move \n",
        "# select two tables \n",
        "# select game_info and moves table join them with game_id\n",
        "# for longest_game\n",
        "longest_game_df = spark.sql('''select A.game_id, A.event, A.tournament_name, count(distinct(B.move_no_pair)) as number_of_moves\n",
        "                            from game_info as A\n",
        "                            left join moves as B\n",
        "                            on B.game_id = A.game_id\n",
        "                            group by A.game_id, A.event, A.tournament_name\n",
        "                            order by number_of_moves desc\n",
        "                            limit 1''')\n",
        "# for shortest_game \n",
        "shortest_game_df = spark.sql('''select A.game_id, A.event, A.tournament_name, count(distinct(B.move_no_pair)) as number_of_moves\n",
        "                            from game_info as A\n",
        "                            left join moves as B\n",
        "                            on B.game_id = A.game_id\n",
        "                            group by A.game_id, A.event, A.tournament_name\n",
        "                            order by number_of_moves asc\n",
        "                            limit 1''')\n",
        "# union all\n",
        "longest_shortest_game_df = longest_game_df.unionAll(shortest_game_df)\n",
        "longest_shortest_game_df.show()\n"
      ],
      "metadata": {
        "colab": {
          "base_uri": "https://localhost:8080/"
        },
        "id": "WitQ3WhNmTen",
        "outputId": "29f2e356-3107-4f82-a82e-2a619d885d89"
      },
      "execution_count": 24,
      "outputs": [
        {
          "output_type": "stream",
          "name": "stdout",
          "text": [
            "+--------------------+-----------+---------------+---------------+\n",
            "|             game_id|      event|tournament_name|number_of_moves|\n",
            "+--------------------+-----------+---------------+---------------+\n",
            "|4424a0a4-3732-407...|FIDE WCh KO|  FideChamp2000|            146|\n",
            "|9929a080-9718-409...|        WCh| WorldChamp2006|              0|\n",
            "+--------------------+-----------+---------------+---------------+\n",
            "\n"
          ]
        }
      ]
    },
    {
      "cell_type": "code",
      "source": [
        "def longest_shortest_game(df5):\n",
        "  longest_shortest_game_df_= longest_shortest_game_df.toPandas()\n",
        "  longest_shortest_game_df_.to_csv('''/content/drive/MyDrive/DE_SOLUTION_Paresh_patil/results/df5.csv''')\n",
        "\n",
        "longest_shortest_game(longest_shortest_game_df)"
      ],
      "metadata": {
        "id": "1w9ss0hIxbRA"
      },
      "execution_count": 25,
      "outputs": []
    },
    {
      "cell_type": "markdown",
      "source": [
        "6. Shortest and Longest Draw game ever Played.\n",
        "Result attributes: game_id, event, tournament_name, number_of_moves \n",
        "Final result will have only two rows"
      ],
      "metadata": {
        "id": "GmWdOe_G0Pa5"
      }
    },
    {
      "cell_type": "code",
      "source": [
        "# extract shortest and longest draw game ever played \n",
        "# select and join game _info, moves\n",
        "# for long_game_df\n",
        "long_game_df = spark.sql('''select A.game_id, A.event, A.tournament_name, count(distinct(B.move_no)) as number_of_moves\n",
        "                            from game_info as A\n",
        "                            left join moves as B\n",
        "                            on B.game_id = A.game_id\n",
        "                            where winner == \"draw\"\n",
        "                            group by A.game_id, A.event, A.tournament_name\n",
        "                            order by number_of_moves desc\n",
        "                            limit 1''')\n",
        "# for short_game_df\n",
        "short_game_df = spark.sql('''select A.game_id, A.event, A.tournament_name, count(distinct(B.move_no)) as number_of_moves\n",
        "                            from game_info as A\n",
        "                            left join moves as B\n",
        "                            on B.game_id = A.game_id\n",
        "                            where winner = \"draw\"\n",
        "                            group by A.game_id, A.event, A.tournament_name\n",
        "                            order by number_of_moves asc\n",
        "                            limit 1''')\n",
        "# union all\n",
        "long_short_game_df = long_game_df.unionAll(short_game_df)\n",
        "long_game_df.show()"
      ],
      "metadata": {
        "colab": {
          "base_uri": "https://localhost:8080/"
        },
        "id": "BJDX9Rvh0F1-",
        "outputId": "45f8f44e-5e03-42f5-df33-0fc0fc233c84"
      },
      "execution_count": 26,
      "outputs": [
        {
          "output_type": "stream",
          "name": "stdout",
          "text": [
            "+--------------------+-----------+---------------+---------------+\n",
            "|             game_id|      event|tournament_name|number_of_moves|\n",
            "+--------------------+-----------+---------------+---------------+\n",
            "|88f34084-e4df-490...|FIDE WCh KO|  FideChamp2002|            258|\n",
            "+--------------------+-----------+---------------+---------------+\n",
            "\n"
          ]
        }
      ]
    },
    {
      "cell_type": "code",
      "source": [
        "def long_game(df6):\n",
        "  long_game_df_= long_game_df.toPandas()\n",
        "  long_game_df_.to_csv('''/content/drive/MyDrive/DE_SOLUTION_Paresh_patil/results/df6.csv''')\n",
        "\n",
        "long_game(long_game_df)"
      ],
      "metadata": {
        "id": "ecakeEPJ2ePf"
      },
      "execution_count": 27,
      "outputs": []
    },
    {
      "cell_type": "markdown",
      "source": [
        "7. Most and Least rated Player.\n",
        "Result attributes: player_name, elo\n",
        "Chess Funda: elo is the rating of the player in chess tournament. \n",
        "Final result will have only two rows"
      ],
      "metadata": {
        "id": "vbzLb-yM3i8k"
      }
    },
    {
      "cell_type": "code",
      "source": [
        "# for most and least rated player\n",
        "# select game_info \n",
        "# add two columns white_elo + black_elo\n",
        "# for most_elo \n",
        "most_elo = spark.sql(\n",
        "    '''select winner as player, \n",
        "       (white_elo + black_elo) as elo \n",
        "       from game_info \n",
        "       where winner !='draw' \n",
        "            and white_elo is not null \n",
        "            and black_elo is not null   \n",
        "       group by winner, white_elo, black_elo \n",
        "       order by elo desc \n",
        "       limit 1''')\n",
        "# for least_elo\n",
        "least_elo = spark.sql(\n",
        "    '''select winner as player, \n",
        "       (white_elo + black_elo) as elo \n",
        "       from game_info \n",
        "       where winner !='draw' \n",
        "            and white_elo is not null \n",
        "            and black_elo is not null   \n",
        "       group by winner, white_elo, black_elo \n",
        "       order by elo asc \n",
        "       limit 1''')\n",
        "#union_all\n",
        "most_least_elo_df = most_elo.unionAll(least_elo)\n",
        "most_least_elo_df.show()"
      ],
      "metadata": {
        "colab": {
          "base_uri": "https://localhost:8080/"
        },
        "id": "d1r62Nc33c-T",
        "outputId": "0143f907-33a3-4f37-89a1-29f3064f6163"
      },
      "execution_count": 28,
      "outputs": [
        {
          "output_type": "stream",
          "name": "stdout",
          "text": [
            "+--------------------+----+\n",
            "|              player| elo|\n",
            "+--------------------+----+\n",
            "|  Anand, Viswanathan|5655|\n",
            "|Stepovaia Dianche...|4697|\n",
            "+--------------------+----+\n",
            "\n"
          ]
        }
      ]
    },
    {
      "cell_type": "code",
      "source": [
        "def most_least_elo(df7):\n",
        "  most_least_elo_df_ = most_least_elo_df.toPandas()\n",
        "  most_least_elo_df_.to_csv('''/content/drive/MyDrive/DE_SOLUTION_Paresh_patil/results/df7.csv''')\n",
        "\n",
        "most_least_elo(most_least_elo_df)"
      ],
      "metadata": {
        "id": "8H5r7iWZ-BDE"
      },
      "execution_count": 29,
      "outputs": []
    },
    {
      "cell_type": "markdown",
      "source": [
        "8. 3rd Last Player with most Loss.\n",
        "Result attributes: player_name\n",
        "Final result will have only one row"
      ],
      "metadata": {
        "id": "-fRdPCH6-fxZ"
      }
    },
    {
      "cell_type": "code",
      "source": [
        "# 3rd player with most loss \n",
        "# select game_info table using sub query \n",
        "player_most_loss = spark.sql('''select player \n",
        "                             from(select loser as player,count(loser) as loss_count\n",
        "                             from game_info\n",
        "                             where loser is not null and loser !=\"draw\"\n",
        "                             group by loser\n",
        "                             order by loss_count desc\n",
        "                             limit 3)\n",
        "                             order by loss_count asc\n",
        "                             limit 1''')\n",
        "player_most_loss.show() "
      ],
      "metadata": {
        "colab": {
          "base_uri": "https://localhost:8080/"
        },
        "id": "mz_o3kGF-ZyD",
        "outputId": "410d109e-c6f3-4051-e425-58a9834b452b"
      },
      "execution_count": 30,
      "outputs": [
        {
          "output_type": "stream",
          "name": "stdout",
          "text": [
            "+---------------+\n",
            "|         player|\n",
            "+---------------+\n",
            "|Karpov, Anatoly|\n",
            "+---------------+\n",
            "\n"
          ]
        }
      ]
    },
    {
      "cell_type": "code",
      "source": [
        "def player_most_loss_(df8):\n",
        "  player_most_loss_ = player_most_loss.toPandas()\n",
        "  player_most_loss_.to_csv('''/content/drive/MyDrive/DE_SOLUTION_Paresh_patil/results/df8.csv''')\n",
        "\n",
        "player_most_loss_(player_most_loss)"
      ],
      "metadata": {
        "id": "C4yNViFpBrn-"
      },
      "execution_count": 31,
      "outputs": []
    },
    {
      "cell_type": "code",
      "source": [
        "import pandas as pd\n",
        "pd.read_csv('''/content/drive/MyDrive/DE_SOLUTION_Paresh_patil/results/df8.csv''')"
      ],
      "metadata": {
        "colab": {
          "base_uri": "https://localhost:8080/",
          "height": 81
        },
        "id": "nJNSuVC_Cj5z",
        "outputId": "5c607069-b62d-48e9-f834-ff1d5025648e"
      },
      "execution_count": 32,
      "outputs": [
        {
          "output_type": "execute_result",
          "data": {
            "text/plain": [
              "   Unnamed: 0           player\n",
              "0           0  Karpov, Anatoly"
            ],
            "text/html": [
              "\n",
              "  <div id=\"df-624d74ae-a5b6-4c7c-a316-1f0145c45345\">\n",
              "    <div class=\"colab-df-container\">\n",
              "      <div>\n",
              "<style scoped>\n",
              "    .dataframe tbody tr th:only-of-type {\n",
              "        vertical-align: middle;\n",
              "    }\n",
              "\n",
              "    .dataframe tbody tr th {\n",
              "        vertical-align: top;\n",
              "    }\n",
              "\n",
              "    .dataframe thead th {\n",
              "        text-align: right;\n",
              "    }\n",
              "</style>\n",
              "<table border=\"1\" class=\"dataframe\">\n",
              "  <thead>\n",
              "    <tr style=\"text-align: right;\">\n",
              "      <th></th>\n",
              "      <th>Unnamed: 0</th>\n",
              "      <th>player</th>\n",
              "    </tr>\n",
              "  </thead>\n",
              "  <tbody>\n",
              "    <tr>\n",
              "      <th>0</th>\n",
              "      <td>0</td>\n",
              "      <td>Karpov, Anatoly</td>\n",
              "    </tr>\n",
              "  </tbody>\n",
              "</table>\n",
              "</div>\n",
              "      <button class=\"colab-df-convert\" onclick=\"convertToInteractive('df-624d74ae-a5b6-4c7c-a316-1f0145c45345')\"\n",
              "              title=\"Convert this dataframe to an interactive table.\"\n",
              "              style=\"display:none;\">\n",
              "        \n",
              "  <svg xmlns=\"http://www.w3.org/2000/svg\" height=\"24px\"viewBox=\"0 0 24 24\"\n",
              "       width=\"24px\">\n",
              "    <path d=\"M0 0h24v24H0V0z\" fill=\"none\"/>\n",
              "    <path d=\"M18.56 5.44l.94 2.06.94-2.06 2.06-.94-2.06-.94-.94-2.06-.94 2.06-2.06.94zm-11 1L8.5 8.5l.94-2.06 2.06-.94-2.06-.94L8.5 2.5l-.94 2.06-2.06.94zm10 10l.94 2.06.94-2.06 2.06-.94-2.06-.94-.94-2.06-.94 2.06-2.06.94z\"/><path d=\"M17.41 7.96l-1.37-1.37c-.4-.4-.92-.59-1.43-.59-.52 0-1.04.2-1.43.59L10.3 9.45l-7.72 7.72c-.78.78-.78 2.05 0 2.83L4 21.41c.39.39.9.59 1.41.59.51 0 1.02-.2 1.41-.59l7.78-7.78 2.81-2.81c.8-.78.8-2.07 0-2.86zM5.41 20L4 18.59l7.72-7.72 1.47 1.35L5.41 20z\"/>\n",
              "  </svg>\n",
              "      </button>\n",
              "      \n",
              "  <style>\n",
              "    .colab-df-container {\n",
              "      display:flex;\n",
              "      flex-wrap:wrap;\n",
              "      gap: 12px;\n",
              "    }\n",
              "\n",
              "    .colab-df-convert {\n",
              "      background-color: #E8F0FE;\n",
              "      border: none;\n",
              "      border-radius: 50%;\n",
              "      cursor: pointer;\n",
              "      display: none;\n",
              "      fill: #1967D2;\n",
              "      height: 32px;\n",
              "      padding: 0 0 0 0;\n",
              "      width: 32px;\n",
              "    }\n",
              "\n",
              "    .colab-df-convert:hover {\n",
              "      background-color: #E2EBFA;\n",
              "      box-shadow: 0px 1px 2px rgba(60, 64, 67, 0.3), 0px 1px 3px 1px rgba(60, 64, 67, 0.15);\n",
              "      fill: #174EA6;\n",
              "    }\n",
              "\n",
              "    [theme=dark] .colab-df-convert {\n",
              "      background-color: #3B4455;\n",
              "      fill: #D2E3FC;\n",
              "    }\n",
              "\n",
              "    [theme=dark] .colab-df-convert:hover {\n",
              "      background-color: #434B5C;\n",
              "      box-shadow: 0px 1px 3px 1px rgba(0, 0, 0, 0.15);\n",
              "      filter: drop-shadow(0px 1px 2px rgba(0, 0, 0, 0.3));\n",
              "      fill: #FFFFFF;\n",
              "    }\n",
              "  </style>\n",
              "\n",
              "      <script>\n",
              "        const buttonEl =\n",
              "          document.querySelector('#df-624d74ae-a5b6-4c7c-a316-1f0145c45345 button.colab-df-convert');\n",
              "        buttonEl.style.display =\n",
              "          google.colab.kernel.accessAllowed ? 'block' : 'none';\n",
              "\n",
              "        async function convertToInteractive(key) {\n",
              "          const element = document.querySelector('#df-624d74ae-a5b6-4c7c-a316-1f0145c45345');\n",
              "          const dataTable =\n",
              "            await google.colab.kernel.invokeFunction('convertToInteractive',\n",
              "                                                     [key], {});\n",
              "          if (!dataTable) return;\n",
              "\n",
              "          const docLinkHtml = 'Like what you see? Visit the ' +\n",
              "            '<a target=\"_blank\" href=https://colab.research.google.com/notebooks/data_table.ipynb>data table notebook</a>'\n",
              "            + ' to learn more about interactive tables.';\n",
              "          element.innerHTML = '';\n",
              "          dataTable['output_type'] = 'display_data';\n",
              "          await google.colab.output.renderOutput(dataTable, element);\n",
              "          const docLink = document.createElement('div');\n",
              "          docLink.innerHTML = docLinkHtml;\n",
              "          element.appendChild(docLink);\n",
              "        }\n",
              "      </script>\n",
              "    </div>\n",
              "  </div>\n",
              "  "
            ]
          },
          "metadata": {},
          "execution_count": 32
        }
      ]
    },
    {
      "cell_type": "markdown",
      "source": [
        "9. How many times players with low rating won matches with their total win Count. Result attributes: player_name, win_count\n"
      ],
      "metadata": {
        "id": "jkDBHaupCUyX"
      }
    },
    {
      "cell_type": "code",
      "source": [
        "# player with low rating won matches with total_count\n",
        "# select game_info table and add two columns white_elo + black_elo \n",
        "# use sub query \n",
        "low_rating_player_= spark.sql('''select player,\n",
        "                              win_count\n",
        "                              from (select winner as player,\n",
        "                                    (white_elo + black_elo) as elo,\n",
        "                                    count(winner) as win_count\n",
        "                                    from game_info\n",
        "                                    where winner !='draw'\n",
        "                                    and white_elo is not null\n",
        "                                    and black_elo is not null\n",
        "                                    group by winner, white_elo, black_elo\n",
        "                                    order by elo asc)\n",
        "                              order by win_count asc\n",
        "                              ''')\n",
        "low_rating_player_.show()"
      ],
      "metadata": {
        "colab": {
          "base_uri": "https://localhost:8080/"
        },
        "id": "HKYwhK5HCIW8",
        "outputId": "786e911c-15f0-4179-9096-ccb2c41515ac"
      },
      "execution_count": 40,
      "outputs": [
        {
          "output_type": "stream",
          "name": "stdout",
          "text": [
            "+--------------------+---------+\n",
            "|              player|win_count|\n",
            "+--------------------+---------+\n",
            "|           Adianto,U|        1|\n",
            "|    Seirawan, Yasser|        1|\n",
            "|   Ivanchuk, Vassily|        1|\n",
            "|           Aronian,L|        1|\n",
            "|        Mamedyarov,S|        1|\n",
            "|          Van Wely,L|        1|\n",
            "|          Akopian,Vl|        1|\n",
            "|           Topalov,V|        1|\n",
            "|            Adams,Mi|        1|\n",
            "|            Adams,Mi|        1|\n",
            "|Malaniuk, Vladimir P|        1|\n",
            "|Beliavsky, Alexan...|        1|\n",
            "|      Van Wely, Loek|        1|\n",
            "|      Short, Nigel D|        1|\n",
            "|          Grischuk,A|        1|\n",
            "|          Sutovsky,E|        1|\n",
            "|          Kiseleva,N|        1|\n",
            "|       Asrian, Karen|        1|\n",
            "|   Ivanchuk, Vassily|        1|\n",
            "|Khalifman, Alexander|        1|\n",
            "+--------------------+---------+\n",
            "only showing top 20 rows\n",
            "\n"
          ]
        }
      ]
    },
    {
      "cell_type": "code",
      "source": [
        "def low_rating_player1(df9):\n",
        "  low_rating_player2= low_rating_player_.toPandas()\n",
        "  low_rating_player2.to_csv('''/content/drive/MyDrive/DE_SOLUTION_Paresh_patil/results/df9.csv''')\n",
        "\n",
        "low_rating_player1(low_rating_player_)"
      ],
      "metadata": {
        "id": "FoYNvnvAKPPh"
      },
      "execution_count": 42,
      "outputs": []
    },
    {
      "cell_type": "markdown",
      "source": [
        "10. Move Sequence for Each Player in a Match.\n",
        "Result attributes: game_id, player_name, move_sequence, move_count"
      ],
      "metadata": {
        "id": "g0Fp-XWTLDuL"
      }
    },
    {
      "cell_type": "code",
      "source": [
        "# move sequence of each player in match \n",
        "# select moves table  and count distinct move_no_pair\n",
        "move_sequence_df_= spark.sql(''' select game_id,\n",
        "                                  player,\n",
        "                                  move_sequence,\n",
        "                                  count(distinct(move_no_pair)) as move_count\n",
        "                                  from moves\n",
        "                                  group by game_id, player, move_sequence\n",
        "                                  ''')\n",
        "move_sequence_df_.show()"
      ],
      "metadata": {
        "colab": {
          "base_uri": "https://localhost:8080/"
        },
        "id": "9b9U17TFK6QY",
        "outputId": "339711e5-32fd-4dbf-f02b-42ee7d7f4c05"
      },
      "execution_count": 48,
      "outputs": [
        {
          "output_type": "stream",
          "name": "stdout",
          "text": [
            "+--------------------+--------------------+--------------------+----------+\n",
            "|             game_id|              player|       move_sequence|move_count|\n",
            "+--------------------+--------------------+--------------------+----------+\n",
            "|9e1eff89-9845-489...|           Svidler,P|e4|c5|Nf3|d6|d4|c...|         1|\n",
            "|4301633c-fcdc-420...|            Sakaev,K|e4|c5|Nf3|d6|d4|c...|         1|\n",
            "|afac6a9e-50e3-401...|            Bareev,E|d4|d5|c4|e6|Nc3|c...|         1|\n",
            "|bfb89ef8-4523-426...|       Ehlvest, Jaan|e4|e5|Nf3|Nc6|Bb5...|         1|\n",
            "|2161bce4-859b-452...|Christiansen, Lar...|e4|c5|Nf3|e6|d4|c...|         1|\n",
            "|8c508208-1f2b-40d...| Petrosian, Tigran V|c4|Nf6|Nc3|e6|Nf3...|         1|\n",
            "|ab4770e9-8a50-43c...|         Beliavsky,A|d4|Nf6|c4|e6|Nc3|...|         1|\n",
            "|d0d1d217-92ca-427...|        Ponomariov,R|e4|e5|Nf3|Nc6|Bb5...|         1|\n",
            "|fb55a026-cc25-4b6...|  Anand, Viswanathan|Nf3|Nf6|c4|e6|Nc3...|         1|\n",
            "|626ffe9c-4e51-41d...|           Felgaer,R|e4|c6|d4|d5|f3|e6...|         1|\n",
            "|30035081-2408-4b0...|          Grischuk,A|d4|d5|c4|e6|Nc3|B...|         1|\n",
            "|6d080f3c-3e4b-447...|          Shabalov,A|d4|Nf6|c4|g6|g3|c...|         1|\n",
            "|135f70a5-e093-4e8...|   Azmaiparashvili,Z|e4|e5|Nf3|Nc6|d4|...|         1|\n",
            "|f627f913-6969-453...|       Salov, Valery|d4|Nf6|c4|g6|Nf3|...|         1|\n",
            "|ac45a5ed-172d-4ae...|      Andersson, Ulf|Nf3|Nf6|d4|g6|g3|...|         1|\n",
            "|502056da-c3e4-497...|  Kortschnoj, Viktor|e4|e5|Nf3|Nc6|Bb5...|         1|\n",
            "|908d439e-45c2-46f...|           Euwe, Max|d4|e6|c4|Nf6|Nc3|...|         1|\n",
            "|dea461a0-46b1-43e...|     Carlsen, Magnus|e4|e5|Nf3|Nc6|Bb5...|         1|\n",
            "|e105bac7-45fd-40b...|           Macieja,B|d4|Nf6|c4|e6|Nf3|...|         1|\n",
            "|14063f13-59b8-461...|   Ivanchuk, Vassily|e4|c5|Nf3|Nc6|d4|...|         1|\n",
            "+--------------------+--------------------+--------------------+----------+\n",
            "only showing top 20 rows\n",
            "\n"
          ]
        }
      ]
    },
    {
      "cell_type": "code",
      "source": [
        "def move_sequence_df1(df10):\n",
        "  move_sequence_df2 = move_sequence_df_.toPandas()\n",
        "  move_sequence_df2.to_csv('''/content/drive/MyDrive/DE_SOLUTION_Paresh_patil/results/df10.csv''')\n",
        "\n",
        "move_sequence_df1(move_sequence_df_)"
      ],
      "metadata": {
        "id": "8tM9ISwkLvSn"
      },
      "execution_count": 49,
      "outputs": []
    },
    {
      "cell_type": "markdown",
      "source": [
        "11. Total Number of games where losing player has more Captured score than Winning player.\n",
        "Hint: Captured score is cumulative, i.e., for 3rd capture it will have score for 1, 2, and 3rd. \n",
        "Result attributes: total_number_of_games Final result will have only one row"
      ],
      "metadata": {
        "id": "VxPcpj0oNhZq"
      }
    },
    {
      "cell_type": "code",
      "source": [
        "# total no of games \n",
        "# create with cte_table for game_id, winner_side,card,winner,loser with joining two table game_info, moves \n",
        "# create another sub query in cte_table using case for winner and loser  \n",
        "total_temp = spark.sql(''' with cte_table\n",
        "              as\n",
        "              (select\n",
        "              g.game_id,\n",
        "              (case when winner = white then 'white' else 'black' end) as winner_side,\n",
        "              white,\n",
        "              black,\n",
        "              winner,\n",
        "              loser,\n",
        "              captured_score_for_white,\n",
        "              captured_score_for_black\n",
        "              from game_info as g\n",
        "              join moves as m\n",
        "              on g.game_id = m.game_id\n",
        "              where winner != 'draw'\n",
        "              or loser != 'draw')\n",
        "\n",
        "              select *,\n",
        "              (case when winner = white or loser = black \n",
        "                    then captured_score_for_white \n",
        "                    else  0\n",
        "                    end) as winner_rank,\n",
        "              (case when loser = white or winner = black \n",
        "                    then captured_score_for_black \n",
        "                    else 0\n",
        "                    end) as loser_rank\n",
        "              from cte_table\n",
        "              ''')\n",
        "# create or replace temp view \n",
        "# create another with table to extract data from total_temp \n",
        "total_temp.createOrReplaceTempView(\"total_temp\")\n",
        "total_number_of_games_ = spark.sql(''' with total_temp\n",
        "              as \n",
        "              (select game_id,\n",
        "              SUM(winner_rank) OVER(ORDER BY game_id ROWS BETWEEN UNBOUNDED PRECEDING AND CURRENT ROW) AS cumsum_for_winner,\n",
        "              SUM(loser_rank) OVER(ORDER BY game_id ROWS BETWEEN UNBOUNDED PRECEDING AND CURRENT ROW) AS cumsum_for_loser\n",
        "              from total_temp)\n",
        "               \n",
        "              select count(*) as total_number_of_games\n",
        "              from total_temp\n",
        "              where cumsum_for_loser > cumsum_for_winner''')\n",
        "\n",
        "total_number_of_games_.show()"
      ],
      "metadata": {
        "colab": {
          "base_uri": "https://localhost:8080/"
        },
        "id": "4lFV_ziYNXX7",
        "outputId": "2b822378-2756-4dbf-f6d2-978c2dcca077"
      },
      "execution_count": 52,
      "outputs": [
        {
          "output_type": "stream",
          "name": "stdout",
          "text": [
            "+---------------------+\n",
            "|total_number_of_games|\n",
            "+---------------------+\n",
            "|                 1251|\n",
            "+---------------------+\n",
            "\n"
          ]
        }
      ]
    },
    {
      "cell_type": "code",
      "source": [
        "def total_number_of_games(df11):\n",
        "  total_number_of_games1 = total_number_of_games_.toPandas()\n",
        "  total_number_of_games1.to_csv('''/content/drive/MyDrive/DE_SOLUTION_Paresh_patil/results/df11.csv''')\n",
        "\n",
        "total_number_of_games(total_number_of_games_)"
      ],
      "metadata": {
        "id": "60pudS7aRPdt"
      },
      "execution_count": 53,
      "outputs": []
    },
    {
      "cell_type": "markdown",
      "source": [
        "12. List All Perfect Tournament with Winner Name.\n",
        "Chess Funda: Perfect Tournament means a player has won all the matches excluding draw matches. e.g Player A has won 5 matches out of 7\n",
        "Matches in tournament where 2 matches are draw and player B has won 0 matches) \n",
        "Result attributes: winner_name, tournament_name\n"
      ],
      "metadata": {
        "id": "JTEzQyXUSVo7"
      }
    },
    {
      "cell_type": "code",
      "source": [
        "# liast of all perfect tournament with winner name \n",
        "# create with cte table for tournament name, count, winner, use case for count_winner and count_draw \n",
        "# select table game_info\n",
        "# use sub query \n",
        "perfect_winner_df = spark.sql(''' with cte_table \n",
        "                                  as \n",
        "                                  (select tournament_name,\n",
        "                                  count(tournament_name) as tournament_count,\n",
        "                                  winner,\n",
        "                                  (case when winner =='draw' then 0 else 1 end) as count_winner, \n",
        "                                  (case when winner =='draw' then 1 else 0 end) as count_draw\n",
        "                                  from game_info\n",
        "                                  group by tournament_name, winner\n",
        "                                  order by count_winner desc)\n",
        "\n",
        "                                  select winner as winner_name,\n",
        "                                  tournament_name\n",
        "                                  from (select *\n",
        "                                        from cte_table \n",
        "                                        where (count_winner + count_draw) = cte_table.tournament_count)\n",
        "                                  where winner != 'draw'\n",
        "                                        ''')\n",
        "perfect_winner_df.show()"
      ],
      "metadata": {
        "colab": {
          "base_uri": "https://localhost:8080/"
        },
        "id": "3r1AJ0QPSQmU",
        "outputId": "76c83b25-3931-492f-a9de-58fd1f6a392c"
      },
      "execution_count": 54,
      "outputs": [
        {
          "output_type": "stream",
          "name": "stdout",
          "text": [
            "+------------------+---------------+\n",
            "|       winner_name|tournament_name|\n",
            "+------------------+---------------+\n",
            "|          Nataf,IA|  FideChamp2002|\n",
            "|        Malakhov,V|  FideChamp2004|\n",
            "|      Radziewicz,I|  FideChamp2002|\n",
            "|         Vasquez,R|  FideChamp2004|\n",
            "|   Wahls, Matthias|  FideChamp1999|\n",
            "|     Ehlvest, Jaan|  FideChamp1998|\n",
            "|         Kramnik,V| WorldChamp2008|\n",
            "|     Ehlvest, Jaan|  FideChamp1999|\n",
            "|        Inarkiev,E|  FideChamp2004|\n",
            "|      Villamayor,B|  FideChamp2000|\n",
            "|      Glek, Igor V|  FideChamp1998|\n",
            "|      Nevednichy,V|  FideChamp2000|\n",
            "|Anand, Viswanathan|   PCAChamp1995|\n",
            "|       Savchenko,S|  FideChamp2002|\n",
            "|         Chernin,A|  FideChamp2000|\n",
            "| Babula, Vlastimil|  FideChamp1999|\n",
            "|       Volokitin,A|  FideChamp2002|\n",
            "|    Benjamin, Joel|  FideChamp1999|\n",
            "|    Leitao, Rafael|  FideChamp1999|\n",
            "|         Sulskis,S|  FideChamp2004|\n",
            "+------------------+---------------+\n",
            "only showing top 20 rows\n",
            "\n"
          ]
        }
      ]
    },
    {
      "cell_type": "code",
      "source": [
        "def perfect_winner(df12):\n",
        "  perfect_winner_df_= perfect_winner_df.toPandas()\n",
        "  perfect_winner_df_.to_csv('''/content/drive/MyDrive/DE_SOLUTION_Paresh_patil/results/df12.csv''')\n",
        "\n",
        "perfect_winner(perfect_winner_df)"
      ],
      "metadata": {
        "id": "hxsubp0oUma-"
      },
      "execution_count": 55,
      "outputs": []
    },
    {
      "cell_type": "markdown",
      "source": [
        "13. Player with highest winning ratio.\n",
        "Hint: Winning ratio: (Number of rounds won)/(Number of rounds played)\n",
        "Result attributes: player_name\n",
        "Final result will have only one row"
      ],
      "metadata": {
        "id": "OzgLVWJEVNzT"
      }
    },
    {
      "cell_type": "code",
      "source": [
        "# player with highest winning ratio\n",
        "# create with cte table using two sub query \n",
        "# select table game_info\n",
        "highest_winning_ratio_df = spark.sql(''' with cte_table \n",
        "                                        as\n",
        "                                        (select winner as player_name,\n",
        "                                        count(winner) as win_count,\n",
        "                                        (count(winner) + count(loser)) as total_count\n",
        "                                        from game_info\n",
        "                                        group by winner)\n",
        "                                        \n",
        "                                        select player_name \n",
        "                                        from (select player_name,\n",
        "                                              (win_count/total_count) as winning_ratio\n",
        "                                              from cte_table\n",
        "                                              order by winning_ratio desc, player_name\n",
        "                                              limit 1\n",
        "                                              )\n",
        "                                        ''')\n",
        "highest_winning_ratio_df.show()"
      ],
      "metadata": {
        "colab": {
          "base_uri": "https://localhost:8080/"
        },
        "id": "ZUC05kkZVFoz",
        "outputId": "e7d80755-e67b-4f34-803d-d23174d1897b"
      },
      "execution_count": 56,
      "outputs": [
        {
          "output_type": "stream",
          "name": "stdout",
          "text": [
            "+-----------+\n",
            "|player_name|\n",
            "+-----------+\n",
            "|      Acs,P|\n",
            "+-----------+\n",
            "\n"
          ]
        }
      ]
    },
    {
      "cell_type": "code",
      "source": [
        "def highest_winning_ratio(df13):\n",
        "  highest_winning_ratio_df_ = highest_winning_ratio_df.toPandas()\n",
        "  highest_winning_ratio_df_.to_csv('''/content/drive/MyDrive/DE_SOLUTION_Paresh_patil/results/df13.csv''')\n",
        "\n",
        "highest_winning_ratio(highest_winning_ratio_df)"
      ],
      "metadata": {
        "id": "6CnQ2hMQWSWW"
      },
      "execution_count": 57,
      "outputs": []
    },
    {
      "cell_type": "markdown",
      "source": [
        "14. Player who had given checkmate with Pawn.\n",
        "Note: Consider all events for this query\n",
        "Result attributes: player_name\n",
        "Final result will have only one row"
      ],
      "metadata": {
        "id": "DVJSzR0MWlEi"
      }
    },
    {
      "cell_type": "code",
      "source": [
        "# player who had gives checkmate with pawn \n",
        "# create with cte table \n",
        "# using two sub query and joining two tables game_info and moves\n",
        "# use case for winner side and use sub query  \n",
        "player_given_checkmate_with_pawn_ = spark.sql(''' with cte_table\n",
        "                                                as\n",
        "                                                (select g.event, \n",
        "                                                g.white,\n",
        "                                                g.black,\n",
        "                                                g.winner,\n",
        "                                                (case when winner = white then 'white' else 'black' end) as winner_side,\n",
        "                                                player,\n",
        "                                                is_check_mate,\n",
        "                                                white_pawn_count, \n",
        "                                                black_pawn_count \n",
        "                                                from moves as m \n",
        "                                                join game_info as g \n",
        "                                                on g.game_id = m.game_id \n",
        "                                                where m.is_check_mate > 0 \n",
        "                                                and g.winner != 'draw')\n",
        "\n",
        "                                                select player\n",
        "                                                from (select player,\n",
        "                                                      (case when player = white \n",
        "                                                          then white_pawn_count\n",
        "                                                          else black_pawn_count end) as winning_count\n",
        "                                                      from cte_table)\n",
        "                                                ''')\n",
        "\n",
        "player_given_checkmate_with_pawn_.show()"
      ],
      "metadata": {
        "colab": {
          "base_uri": "https://localhost:8080/"
        },
        "id": "klfzxwLRWiIQ",
        "outputId": "b9baa252-1a2b-4b6c-e4e8-c106e55073e6"
      },
      "execution_count": 62,
      "outputs": [
        {
          "output_type": "stream",
          "name": "stdout",
          "text": [
            "+-------------------+\n",
            "|             player|\n",
            "+-------------------+\n",
            "|         Nakamura,H|\n",
            "|         Ciuksyte,D|\n",
            "|           Paehtz,E|\n",
            "|          Polgar,Ju|\n",
            "|         Van Wely,L|\n",
            "|        Movsesian,S|\n",
            "|     Andersson, Ulf|\n",
            "|Alekhine, Alexander|\n",
            "+-------------------+\n",
            "\n"
          ]
        }
      ]
    },
    {
      "cell_type": "code",
      "source": [
        "def player_given_checkmate_with_pawn(df14):\n",
        "  player_given_checkmate_with_pawn1 = player_given_checkmate_with_pawn_.toPandas()\n",
        "  player_given_checkmate_with_pawn1.to_csv('''/content/drive/MyDrive/DE_SOLUTION_Paresh_patil/results/df14.csv''')\n",
        "\n",
        "player_given_checkmate_with_pawn(player_given_checkmate_with_pawn_)"
      ],
      "metadata": {
        "id": "QtdB709hX6nW"
      },
      "execution_count": 63,
      "outputs": []
    },
    {
      "cell_type": "markdown",
      "source": [
        "15. List games where player has won game without queen. Result attributes: game_id, event, player_name"
      ],
      "metadata": {
        "id": "jzgWaqHbYWcB"
      }
    },
    {
      "cell_type": "code",
      "source": [
        "player_won_without_queen_ = spark.sql(''' with cte_table\n",
        "                                            as\n",
        "                                            (select g.game_id,\n",
        "                                            event,\n",
        "                                            white,\n",
        "                                            black,\n",
        "                                            winner,\n",
        "                                            loser,\n",
        "                                            black_queen_count,\n",
        "                                            white_queen_count\n",
        "                                            from game_info as g\n",
        "                                            join moves as m\n",
        "                                            on g.game_id = m.game_id\n",
        "                                            where winner != 'draw')\n",
        "\n",
        "                                            select game_id, \n",
        "                                            event, \n",
        "                                            winner as player_name\n",
        "                                            from (select *,\n",
        "                                                  (case when winner = white \n",
        "                                                        and white_queen_count = 0  \n",
        "                                                        then 1 \n",
        "                                                        else 0 end) as white_winner,\n",
        "                                                  (case when winner = black \n",
        "                                                        and black_queen_count = 0  \n",
        "                                                        then 1 \n",
        "                                                        else 0 end) as black_winner\n",
        "                                                  from cte_table\n",
        "                                                  where black_queen_count= 0\n",
        "                                                  or white_queen_count = 0)\n",
        "                                                  ''')\n",
        "\n",
        "player_won_without_queen_.show()"
      ],
      "metadata": {
        "colab": {
          "base_uri": "https://localhost:8080/"
        },
        "id": "y0ZSePGWYP6F",
        "outputId": "d37ea8bd-6082-40c2-ea85-af73cabc3955"
      },
      "execution_count": 66,
      "outputs": [
        {
          "output_type": "stream",
          "name": "stdout",
          "text": [
            "+--------------------+--------+-----------+\n",
            "|             game_id|   event|player_name|\n",
            "+--------------------+--------+-----------+\n",
            "|58e83255-93bb-4d5...|WCh 2021|  Carlsen,M|\n",
            "|58e83255-93bb-4d5...|WCh 2021|  Carlsen,M|\n",
            "|58e83255-93bb-4d5...|WCh 2021|  Carlsen,M|\n",
            "|58e83255-93bb-4d5...|WCh 2021|  Carlsen,M|\n",
            "|58e83255-93bb-4d5...|WCh 2021|  Carlsen,M|\n",
            "|58e83255-93bb-4d5...|WCh 2021|  Carlsen,M|\n",
            "|58e83255-93bb-4d5...|WCh 2021|  Carlsen,M|\n",
            "|58e83255-93bb-4d5...|WCh 2021|  Carlsen,M|\n",
            "|58e83255-93bb-4d5...|WCh 2021|  Carlsen,M|\n",
            "|58e83255-93bb-4d5...|WCh 2021|  Carlsen,M|\n",
            "|58e83255-93bb-4d5...|WCh 2021|  Carlsen,M|\n",
            "|58e83255-93bb-4d5...|WCh 2021|  Carlsen,M|\n",
            "|58e83255-93bb-4d5...|WCh 2021|  Carlsen,M|\n",
            "|58e83255-93bb-4d5...|WCh 2021|  Carlsen,M|\n",
            "|58e83255-93bb-4d5...|WCh 2021|  Carlsen,M|\n",
            "|58e83255-93bb-4d5...|WCh 2021|  Carlsen,M|\n",
            "|58e83255-93bb-4d5...|WCh 2021|  Carlsen,M|\n",
            "|58e83255-93bb-4d5...|WCh 2021|  Carlsen,M|\n",
            "|58e83255-93bb-4d5...|WCh 2021|  Carlsen,M|\n",
            "|58e83255-93bb-4d5...|WCh 2021|  Carlsen,M|\n",
            "+--------------------+--------+-----------+\n",
            "only showing top 20 rows\n",
            "\n"
          ]
        }
      ]
    },
    {
      "cell_type": "code",
      "source": [
        "def player_won_without_queen(df15):\n",
        "  player_won_without_queen1 = player_won_without_queen_.toPandas()\n",
        "  player_won_without_queen1.to_csv('''/content/drive/MyDrive/DE_SOLUTION_Paresh_patil/results/df15.csv''')\n",
        "\n",
        "player_won_without_queen(player_won_without_queen_)"
      ],
      "metadata": {
        "id": "JyDp7PsUZ6N9"
      },
      "execution_count": 67,
      "outputs": []
    },
    {
      "cell_type": "code",
      "source": [],
      "metadata": {
        "id": "9dD1C5OMaWqn"
      },
      "execution_count": 61,
      "outputs": []
    }
  ]
}